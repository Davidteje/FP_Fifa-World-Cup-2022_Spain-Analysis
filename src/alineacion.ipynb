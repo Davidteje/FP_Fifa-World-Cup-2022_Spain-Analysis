{
 "cells": [
  {
   "cell_type": "markdown",
   "id": "54f71643",
   "metadata": {},
   "source": [
    "### ELABORACIÓN COORDENADAS DE ALINEACIÓN TIPO"
   ]
  },
  {
   "cell_type": "code",
   "execution_count": 1,
   "id": "f472c87b",
   "metadata": {},
   "outputs": [],
   "source": [
    "### Importación de librerías\n",
    "\n",
    "import pandas as pd\n",
    "pd.set_option('display.max_columns', None)\n",
    "pd.set_option('display.max_rows', None)\n",
    "import numpy as np\n",
    "import warnings\n",
    "warnings.filterwarnings('ignore')"
   ]
  },
  {
   "cell_type": "code",
   "execution_count": 2,
   "id": "f58245ce",
   "metadata": {},
   "outputs": [],
   "source": [
    "### Creación de DF\n",
    "\n",
    "df_alineacion = pd.DataFrame()"
   ]
  },
  {
   "cell_type": "code",
   "execution_count": 3,
   "id": "c7d9ca83",
   "metadata": {},
   "outputs": [],
   "source": [
    "### Coordenadas en el campo y jugadores\n",
    "\n",
    "posiciones_x = [0.05, 0.25, 0.25, 0.25, 0.25, 0.4, 0.55, 0.55, 0.7, 0.7, 0.8]\n",
    "posiciones_y = [0.5, 0.2, 0.4, 0.6, 0.8, 0.5, 0.35, 0.65, 0.2, 0.8, 0.5]\n",
    "jugadores = ['Unai SIMON', 'Dani CARVAJAL', 'RODRI', 'Aymeric LAPORTE', 'Jordi ALBA', 'Sergio BUSQUETS', 'GAVI',\n",
    "            'PEDRI', 'Ferran TORRES', 'Dani OLMO', 'Marco ASENSIO']"
   ]
  },
  {
   "cell_type": "code",
   "execution_count": 4,
   "id": "91a14d33",
   "metadata": {},
   "outputs": [
    {
     "data": {
      "text/html": [
       "<div>\n",
       "<style scoped>\n",
       "    .dataframe tbody tr th:only-of-type {\n",
       "        vertical-align: middle;\n",
       "    }\n",
       "\n",
       "    .dataframe tbody tr th {\n",
       "        vertical-align: top;\n",
       "    }\n",
       "\n",
       "    .dataframe thead th {\n",
       "        text-align: right;\n",
       "    }\n",
       "</style>\n",
       "<table border=\"1\" class=\"dataframe\">\n",
       "  <thead>\n",
       "    <tr style=\"text-align: right;\">\n",
       "      <th></th>\n",
       "      <th>x</th>\n",
       "      <th>y</th>\n",
       "      <th>jugador</th>\n",
       "    </tr>\n",
       "  </thead>\n",
       "  <tbody>\n",
       "    <tr>\n",
       "      <th>0</th>\n",
       "      <td>0.05</td>\n",
       "      <td>0.50</td>\n",
       "      <td>Unai SIMON</td>\n",
       "    </tr>\n",
       "    <tr>\n",
       "      <th>1</th>\n",
       "      <td>0.25</td>\n",
       "      <td>0.20</td>\n",
       "      <td>Dani CARVAJAL</td>\n",
       "    </tr>\n",
       "    <tr>\n",
       "      <th>2</th>\n",
       "      <td>0.25</td>\n",
       "      <td>0.40</td>\n",
       "      <td>RODRI</td>\n",
       "    </tr>\n",
       "    <tr>\n",
       "      <th>3</th>\n",
       "      <td>0.25</td>\n",
       "      <td>0.60</td>\n",
       "      <td>Aymeric LAPORTE</td>\n",
       "    </tr>\n",
       "    <tr>\n",
       "      <th>4</th>\n",
       "      <td>0.25</td>\n",
       "      <td>0.80</td>\n",
       "      <td>Jordi ALBA</td>\n",
       "    </tr>\n",
       "    <tr>\n",
       "      <th>5</th>\n",
       "      <td>0.40</td>\n",
       "      <td>0.50</td>\n",
       "      <td>Sergio BUSQUETS</td>\n",
       "    </tr>\n",
       "    <tr>\n",
       "      <th>6</th>\n",
       "      <td>0.55</td>\n",
       "      <td>0.35</td>\n",
       "      <td>GAVI</td>\n",
       "    </tr>\n",
       "    <tr>\n",
       "      <th>7</th>\n",
       "      <td>0.55</td>\n",
       "      <td>0.65</td>\n",
       "      <td>PEDRI</td>\n",
       "    </tr>\n",
       "    <tr>\n",
       "      <th>8</th>\n",
       "      <td>0.70</td>\n",
       "      <td>0.20</td>\n",
       "      <td>Ferran TORRES</td>\n",
       "    </tr>\n",
       "    <tr>\n",
       "      <th>9</th>\n",
       "      <td>0.70</td>\n",
       "      <td>0.80</td>\n",
       "      <td>Dani OLMO</td>\n",
       "    </tr>\n",
       "    <tr>\n",
       "      <th>10</th>\n",
       "      <td>0.80</td>\n",
       "      <td>0.50</td>\n",
       "      <td>Marco ASENSIO</td>\n",
       "    </tr>\n",
       "  </tbody>\n",
       "</table>\n",
       "</div>"
      ],
      "text/plain": [
       "       x     y          jugador\n",
       "0   0.05  0.50       Unai SIMON\n",
       "1   0.25  0.20    Dani CARVAJAL\n",
       "2   0.25  0.40            RODRI\n",
       "3   0.25  0.60  Aymeric LAPORTE\n",
       "4   0.25  0.80       Jordi ALBA\n",
       "5   0.40  0.50  Sergio BUSQUETS\n",
       "6   0.55  0.35             GAVI\n",
       "7   0.55  0.65            PEDRI\n",
       "8   0.70  0.20    Ferran TORRES\n",
       "9   0.70  0.80        Dani OLMO\n",
       "10  0.80  0.50    Marco ASENSIO"
      ]
     },
     "execution_count": 4,
     "metadata": {},
     "output_type": "execute_result"
    }
   ],
   "source": [
    "df_alineacion['x'] = posiciones_x\n",
    "df_alineacion['y'] = posiciones_y\n",
    "df_alineacion['jugador'] = jugadores\n",
    "df_alineacion"
   ]
  },
  {
   "cell_type": "code",
   "execution_count": 5,
   "id": "b4a2ac95",
   "metadata": {},
   "outputs": [],
   "source": [
    "### Exportación para su posterior visualización en Tableau\n",
    "\n",
    "#df_alineacion.to_excel(r'C:\\Users\\david\\Proyectos\\QATAR 2022\\PROYECTO ESPAÑA\\repositorio\\viz\\ficheros Tableau\\alineacion.xlsx', index=False)"
   ]
  }
 ],
 "metadata": {
  "kernelspec": {
   "display_name": "Python 3 (ipykernel)",
   "language": "python",
   "name": "python3"
  },
  "language_info": {
   "codemirror_mode": {
    "name": "ipython",
    "version": 3
   },
   "file_extension": ".py",
   "mimetype": "text/x-python",
   "name": "python",
   "nbconvert_exporter": "python",
   "pygments_lexer": "ipython3",
   "version": "3.9.13"
  }
 },
 "nbformat": 4,
 "nbformat_minor": 5
}
